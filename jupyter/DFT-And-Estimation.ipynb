{
 "cells": [
  {
   "cell_type": "markdown",
   "metadata": {},
   "source": [
    "# The Dickey-Fuller Test"
   ]
  },
  {
   "cell_type": "markdown",
   "metadata": {},
   "source": [
    "Previously, you learned how to detect the presence of trend and/or seasonality using charts and decompostion.  It is determined that if either are present in the data, then the time series is probably not stationary."
   ]
  },
  {
   "cell_type": "markdown",
   "metadata": {},
   "source": [
    "Let's revist the time series dataset containing the number of airline passengers traveling in a particular month.  Remember to prepare the time series data for analysis by\n",
    "- converting the *Month* column to data type datetime\n",
    "- setting the *Month* column as the index of the time series"
   ]
  },
  {
   "cell_type": "code",
   "execution_count": 25,
   "metadata": {},
   "outputs": [
    {
     "name": "stdout",
     "output_type": "stream",
     "text": [
      "            Passengers\n",
      "Month                 \n",
      "1949-01-01         112\n",
      "1949-02-01         118\n",
      "1949-03-01         132\n",
      "1949-04-01         129\n",
      "1949-05-01         121\n"
     ]
    }
   ],
   "source": [
    "import pandas as pd\n",
    "passengers = pd.read_csv('https://mathatwork.org/DATA/airpassengers.csv')\n",
    "\n",
    "from datetime import datetime\n",
    "passengers.Month = pd.to_datetime(passengers.Month)\n",
    "passengers.index = passengers.Month\n",
    "passengers = passengers.drop('Month', axis=1)\n",
    "print(passengers.head())"
   ]
  },
  {
   "cell_type": "markdown",
   "metadata": {},
   "source": [
    "Nice!  Recall that decompostion revealed a clear presence of both trend and seasonality in the data which provided evidence that the data is probably non-stationary.\n",
    "<br><br>\n",
    "Let's apply Dickey-Fuller to test this hypothesis."
   ]
  },
  {
   "cell_type": "code",
   "execution_count": 31,
   "metadata": {},
   "outputs": [
    {
     "name": "stdout",
     "output_type": "stream",
     "text": [
      "p-value    0.99188\n",
      "dtype: float64\n"
     ]
    }
   ],
   "source": [
    "from statsmodels.tsa.stattools import adfuller\n",
    "\n",
    "dftest = adfuller(passengers.Passengers)\n",
    "pvalue = pd.Series(dftest[1], index=['p-value'])\n",
    "\n",
    "print(pvalue)"
   ]
  },
  {
   "cell_type": "markdown",
   "metadata": {},
   "source": [
    "In Python, adfuller is the Dickey-Fuller test.  In the code above, **adfuller** was imported from the *statsmodels* library.  After the import, the adfuller test was run on the *Passengers* column of the *passengers* DataFrame.  Results from the adfuller test were stored in a new DataFrame we called *dftest*.  \n",
    "<br>\n",
    "The adfuller returns a few other statistics, but we only stored the *p-value* in a new DataFrame called *pvalue*.  Look [here](https://www.statsmodels.org/dev/generated/statsmodels.tsa.stattools.adfuller.html) for a list of returned statistics of adfuller.  We then printed *pvalue* to the screen."
   ]
  },
  {
   "cell_type": "markdown",
   "metadata": {},
   "source": [
    "The p-value here is 0.99 which means that the probability that this time series is non-stationary is 99%.  This is a very high probability.  If you decided, for example, on a confidence level of 95%,  then alpha would be 0.05.  In this case, since the p-value = 0.99 is NOT LESS THAN alpha = 0.05, you can conclude that the time series is indeed non-stationary with 95% confidence."
   ]
  },
  {
   "cell_type": "markdown",
   "metadata": {},
   "source": [
    "# Differencing For Estimating Trend and Seasonality"
   ]
  },
  {
   "cell_type": "markdown",
   "metadata": {},
   "source": [
    "When applying differencing for estimation, you should begin with **first order differencing**.  That is where lag=1.  This means you take your original data series and subtract a new series created by shifting the original series's data elements over by 1 index.\n",
    "<br><br>\n",
    "For example, consider the following series:"
   ]
  },
  {
   "cell_type": "code",
   "execution_count": 12,
   "metadata": {
    "collapsed": true
   },
   "outputs": [],
   "source": [
    "my_series = pd.DataFrame([10, 20, 15, 30, 45])"
   ]
  },
  {
   "cell_type": "markdown",
   "metadata": {},
   "source": [
    "Apply Python's **.shift( )** method and pass in *periods=1* to specify a lag equal to 1."
   ]
  },
  {
   "cell_type": "code",
   "execution_count": 13,
   "metadata": {},
   "outputs": [
    {
     "name": "stdout",
     "output_type": "stream",
     "text": [
      "      0\n",
      "0   NaN\n",
      "1  10.0\n",
      "2  20.0\n",
      "3  15.0\n",
      "4  30.0\n"
     ]
    }
   ],
   "source": [
    "my_series_lag1 = my_series.shift(periods=1)\n",
    "print(my_series_lag1)"
   ]
  },
  {
   "cell_type": "markdown",
   "metadata": {},
   "source": [
    "**.shift(periods=1)** shifted *my_series* data items over (or down) by 1 index.  Notice that consequently there is no data at ROW INDEX 0.  Subtract the lagged series from the original series to get first order differencing."
   ]
  },
  {
   "cell_type": "code",
   "execution_count": 14,
   "metadata": {},
   "outputs": [
    {
     "name": "stdout",
     "output_type": "stream",
     "text": [
      "      0\n",
      "0   NaN\n",
      "1  10.0\n",
      "2  -5.0\n",
      "3  15.0\n",
      "4  15.0\n"
     ]
    }
   ],
   "source": [
    "first_diff = my_series - my_series_lag1\n",
    "print(first_diff)"
   ]
  },
  {
   "cell_type": "markdown",
   "metadata": {},
   "source": [
    "Notice that there is still no data at ROW INDEX 0.  The resulting DataFrame is the element by element difference between *my_series* and *my_series_lag1*.  \n",
    "<br>\n",
    "Similarly, to get **second order differencing** you take your original data series and subtract a new series created by shifting the original series's data elements over by 2 indices. "
   ]
  },
  {
   "cell_type": "code",
   "execution_count": 15,
   "metadata": {},
   "outputs": [
    {
     "name": "stdout",
     "output_type": "stream",
     "text": [
      "      0\n",
      "0   NaN\n",
      "1   NaN\n",
      "2  10.0\n",
      "3  20.0\n",
      "4  15.0\n"
     ]
    }
   ],
   "source": [
    "my_series_lag2 = my_series.shift(periods=2)\n",
    "print(my_series_lag2)"
   ]
  },
  {
   "cell_type": "markdown",
   "metadata": {},
   "source": [
    "**.shift(periods=2)** shifted *my_series* data items over (or down) by 2 indices.  Notice that consequently there is no data at ROW INDICES 0 and 1.  Subtract the lagged series from the original series to get second order differencing."
   ]
  },
  {
   "cell_type": "code",
   "execution_count": 16,
   "metadata": {},
   "outputs": [
    {
     "name": "stdout",
     "output_type": "stream",
     "text": [
      "      0\n",
      "0   NaN\n",
      "1   NaN\n",
      "2   5.0\n",
      "3  10.0\n",
      "4  30.0\n"
     ]
    }
   ],
   "source": [
    "second_diff = my_series - my_series_lag2\n",
    "print(second_diff)"
   ]
  },
  {
   "cell_type": "markdown",
   "metadata": {},
   "source": [
    "Viola!  Follow the same logic for higher order differencing.  \n",
    "<br>\n",
    "Now let's apply first order differencing to the airline passengers data."
   ]
  },
  {
   "cell_type": "code",
   "execution_count": 27,
   "metadata": {},
   "outputs": [
    {
     "name": "stdout",
     "output_type": "stream",
     "text": [
      "            Passengers\n",
      "Month                 \n",
      "1949-01-01         NaN\n",
      "1949-02-01         6.0\n",
      "1949-03-01        14.0\n",
      "1949-04-01        -3.0\n",
      "1949-05-01        -8.0\n"
     ]
    }
   ],
   "source": [
    "passengers_lag1 = passengers.shift(periods=1)\n",
    "passengers_first_diff = passengers - passengers_lag1\n",
    "print(passengers_first_diff.head())"
   ]
  },
  {
   "cell_type": "markdown",
   "metadata": {},
   "source": [
    "We expected there to be no data at ROW INDEX 0.  However, this will cause problems in our analysis, so let's use Panda's **.dropna( )** to drop the NAN.  Pass in *inplace=True* to perform the drop on the *passengers_first_diff* DataFrame itself and not a copy of it."
   ]
  },
  {
   "cell_type": "code",
   "execution_count": 29,
   "metadata": {},
   "outputs": [
    {
     "name": "stdout",
     "output_type": "stream",
     "text": [
      "            Passengers\n",
      "Month                 \n",
      "1949-02-01         6.0\n",
      "1949-03-01        14.0\n",
      "1949-04-01        -3.0\n",
      "1949-05-01        -8.0\n",
      "1949-06-01        14.0\n"
     ]
    }
   ],
   "source": [
    "passengers_first_diff.dropna(inplace=True)\n",
    "print(passengers_first_diff.head())"
   ]
  },
  {
   "cell_type": "markdown",
   "metadata": {},
   "source": [
    "Great!  After applying first order differencing, we hope the resulting time series is now stationary.  Let's use Dickey-Fuller on the differenced time series to check stationarity."
   ]
  },
  {
   "cell_type": "code",
   "execution_count": 32,
   "metadata": {},
   "outputs": [
    {
     "name": "stdout",
     "output_type": "stream",
     "text": [
      "p-value    0.054213\n",
      "dtype: float64\n"
     ]
    }
   ],
   "source": [
    "dftest2 = adfuller(passengers_first_diff.Passengers)\n",
    "pvalue2 = pd.Series(dftest2[1], index=['p-value'])\n",
    "\n",
    "print(pvalue2)"
   ]
  },
  {
   "cell_type": "markdown",
   "metadata": {},
   "source": [
    "The p-value here is 0.054 which means that the probability that this time series is non-stationary is 5.4%. This is a very low probability. If you decided, for example, on a confidence level of 90%, then alpha would be 0.10. In this case, since the p-value = 0.054 is LESS THAN alpha = 0.10, you can conclude that the time series is indeed stationary with 90% confidence."
   ]
  },
  {
   "cell_type": "markdown",
   "metadata": {},
   "source": [
    "This is great because the differenced time series could now be modeled using either regression models or ARIMA models since both require stationarity. "
   ]
  },
  {
   "cell_type": "markdown",
   "metadata": {},
   "source": [
    "### Exercise "
   ]
  },
  {
   "cell_type": "markdown",
   "metadata": {},
   "source": [
    "Recall the time series dataset containing monthly number of sales of shampoo over a 3 year period for a UK-based online store."
   ]
  },
  {
   "cell_type": "code",
   "execution_count": 33,
   "metadata": {},
   "outputs": [
    {
     "name": "stdout",
     "output_type": "stream",
     "text": [
      "     Month  Sales\n",
      "0  2015-01  266.0\n",
      "1  2015-02  145.9\n",
      "2  2015-03  183.1\n",
      "3  2015-04  119.3\n",
      "4  2015-05  180.3\n"
     ]
    }
   ],
   "source": [
    "sales = pd.read_csv('https://mathatwork.org/DATA/sales-shampoo.csv')\n",
    "print(sales.head())"
   ]
  },
  {
   "cell_type": "markdown",
   "metadata": {},
   "source": [
    "**1)** Prepare the time series data for analysis by\n",
    "- converting the *Month* column to data type datetime\n",
    "- setting the *Month* column as the index of the time series"
   ]
  },
  {
   "cell_type": "code",
   "execution_count": 34,
   "metadata": {},
   "outputs": [
    {
     "name": "stdout",
     "output_type": "stream",
     "text": [
      "            Sales\n",
      "Month            \n",
      "2015-01-01  266.0\n",
      "2015-02-01  145.9\n",
      "2015-03-01  183.1\n",
      "2015-04-01  119.3\n",
      "2015-05-01  180.3\n"
     ]
    }
   ],
   "source": [
    "sales.Month = pd.to_datetime(sales.Month)\n",
    "sales.index = sales.Month\n",
    "sales = sales.drop('Month', axis=1)\n",
    "print(sales.head())"
   ]
  },
  {
   "cell_type": "markdown",
   "metadata": {},
   "source": [
    "**2)** Assuming previously that decomposition revealed a clear presence of both trend and seasonality in the data which provided evidence that the data is probably non-stationary, apply Dickey-Fuller to test this hypothesis. Explain in the cell below your analysis your interpretation of the *p-value* at an 85% confidence level."
   ]
  },
  {
   "cell_type": "code",
   "execution_count": 35,
   "metadata": {},
   "outputs": [
    {
     "name": "stdout",
     "output_type": "stream",
     "text": [
      "p-value    1.0\n",
      "dtype: float64\n"
     ]
    }
   ],
   "source": [
    "dftest3 = adfuller(sales.Sales)\n",
    "pvalue3 = pd.Series(dftest3[1], index=['p-value'])\n",
    "\n",
    "print(pvalue3)"
   ]
  },
  {
   "cell_type": "code",
   "execution_count": null,
   "metadata": {
    "collapsed": true
   },
   "outputs": [],
   "source": []
  },
  {
   "cell_type": "markdown",
   "metadata": {},
   "source": [
    "**3)** Apply first order differencing to the sales data."
   ]
  },
  {
   "cell_type": "code",
   "execution_count": 37,
   "metadata": {},
   "outputs": [
    {
     "name": "stdout",
     "output_type": "stream",
     "text": [
      "            Sales\n",
      "Month            \n",
      "2015-02-01 -120.1\n",
      "2015-03-01   37.2\n",
      "2015-04-01  -63.8\n",
      "2015-05-01   61.0\n",
      "2015-06-01  -11.8\n"
     ]
    }
   ],
   "source": [
    "sales_lag1 = sales.shift(periods=1)\n",
    "sales_first_diff = sales - sales_lag1\n",
    "sales_first_diff.dropna(inplace=True)\n",
    "\n",
    "print(sales_first_diff.head())"
   ]
  },
  {
   "cell_type": "markdown",
   "metadata": {},
   "source": [
    "**4)** Apply the Dickey-Fuller test to recheck stationarity for the differenced sales data.  Explain in the cell below your analysis your interpretation of the p-value at a 95% confidence level."
   ]
  },
  {
   "cell_type": "code",
   "execution_count": 38,
   "metadata": {},
   "outputs": [
    {
     "name": "stdout",
     "output_type": "stream",
     "text": [
      "p-value    1.799857e-10\n",
      "dtype: float64\n"
     ]
    }
   ],
   "source": [
    "dftest4 = adfuller(sales_first_diff.Sales)\n",
    "pvalue4 = pd.Series(dftest4[1], index=['p-value'])\n",
    "\n",
    "print(pvalue4)"
   ]
  },
  {
   "cell_type": "code",
   "execution_count": null,
   "metadata": {
    "collapsed": true
   },
   "outputs": [],
   "source": []
  }
 ],
 "metadata": {
  "kernelspec": {
   "display_name": "Python 3",
   "language": "python",
   "name": "python3"
  },
  "language_info": {
   "codemirror_mode": {
    "name": "ipython",
    "version": 3
   },
   "file_extension": ".py",
   "mimetype": "text/x-python",
   "name": "python",
   "nbconvert_exporter": "python",
   "pygments_lexer": "ipython3",
   "version": "3.6.1"
  }
 },
 "nbformat": 4,
 "nbformat_minor": 2
}
