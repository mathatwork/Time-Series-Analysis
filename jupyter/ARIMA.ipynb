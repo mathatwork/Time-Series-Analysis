{
 "cells": [
  {
   "cell_type": "markdown",
   "metadata": {},
   "source": [
    "# Modeling Time Series Using ARIMA"
   ]
  },
  {
   "cell_type": "markdown",
   "metadata": {},
   "source": [
    "ARIMA models are like linear regression models and are very popular in forecasting after differencing. ARIMA stands for Auto-Regressive Integrated Moving Averages. The predictors depend on the parameters (p,d,q) of the ARIMA model. Briefly, the parameters are explained as followed:\n",
    "\n",
    "- p: The number of lag observations included in the model, also called the lag order.\n",
    "- d: The number of times that the raw observations are differenced, also called the degree of differencing.\n",
    "- q: The size of the moving average window, also called the order of moving average.\n",
    "\n",
    "Rather than determining these parameters ourselves using statistical methods like the Autocorrelation Function (ACF) and the Partial Autocorrelation Function (PACF) plots, will use Python’s **auto.arima( )** function to find the best model parameters for us.  If a time series dataset is confirmed to have seasonality present, you must use *auto.arima( ) with “seasonality”* which requires 3 additional parameters: P, D and Q."
   ]
  },
  {
   "cell_type": "markdown",
   "metadata": {},
   "source": [
    "Let's revist the time series dataset containing the number of airline passengers traveling in a particular month.  Remember to prepare the time series data for analysis by\n",
    "- converting the *Month* column to data type datetime\n",
    "- setting the *Month* column as the index of the time series"
   ]
  },
  {
   "cell_type": "code",
   "execution_count": 68,
   "metadata": {},
   "outputs": [
    {
     "name": "stdout",
     "output_type": "stream",
     "text": [
      "            Passengers\n",
      "Month                 \n",
      "1949-01-01         112\n",
      "1949-02-01         118\n",
      "1949-03-01         132\n",
      "1949-04-01         129\n",
      "1949-05-01         121\n"
     ]
    }
   ],
   "source": [
    "import pandas as pd\n",
    "passengers = pd.read_csv('https://mathatwork.org/DATA/airpassengers.csv')\n",
    "\n",
    "from datetime import datetime\n",
    "passengers.Month = pd.to_datetime(passengers.Month)\n",
    "passengers.index = passengers.Month\n",
    "passengers = passengers.drop('Month', axis=1)\n",
    "print(passengers.head())"
   ]
  },
  {
   "cell_type": "markdown",
   "metadata": {},
   "source": [
    "Recall that decompostion revealed a clear presence of both trend and seasonality in the data which provided evidence that the data is probably non-stationary. \n",
    "<br>\n",
    "Confirmed by a Dickey-Fuller test, applying first order differencing to the *passengers* data made the *passengers_first_diff* series data stationary."
   ]
  },
  {
   "cell_type": "code",
   "execution_count": 69,
   "metadata": {},
   "outputs": [
    {
     "name": "stdout",
     "output_type": "stream",
     "text": [
      "p-value    0.054213\n",
      "dtype: float64\n"
     ]
    }
   ],
   "source": [
    "passengers_lag1 = passengers.shift(periods=1)\n",
    "passengers_first_diff = passengers - passengers_lag1\n",
    "passengers_first_diff.dropna(inplace=True)\n",
    "\n",
    "from statsmodels.tsa.stattools import adfuller\n",
    "\n",
    "dftest = adfuller(passengers_first_diff.Passengers)\n",
    "pvalue = pd.Series(dftest[1], index=['p-value'])\n",
    "\n",
    "print(pvalue)"
   ]
  },
  {
   "cell_type": "markdown",
   "metadata": {},
   "source": [
    "Since *passengers_first_diff* is confirmed stationary and *passengers* is confirmed to have seasonality present, use Python's **auto.arima( )** with seasonality to find the best ARIMA model to make our predictions regarding future airline passengers."
   ]
  },
  {
   "cell_type": "code",
   "execution_count": 70,
   "metadata": {},
   "outputs": [
    {
     "name": "stdout",
     "output_type": "stream",
     "text": [
      "Fit ARIMA: order=(2, 1, 2) seasonal_order=(1, 1, 1, 12); AIC=1019.286, BIC=1042.287, Fit time=1.289 seconds\n",
      "Fit ARIMA: order=(0, 1, 0) seasonal_order=(0, 1, 0, 12); AIC=1033.479, BIC=1039.229, Fit time=0.020 seconds\n",
      "Fit ARIMA: order=(1, 1, 0) seasonal_order=(1, 1, 0, 12); AIC=1022.316, BIC=1033.817, Fit time=0.230 seconds\n",
      "Fit ARIMA: order=(0, 1, 1) seasonal_order=(0, 1, 1, 12); AIC=1022.904, BIC=1034.405, Fit time=0.251 seconds\n",
      "Fit ARIMA: order=(2, 1, 2) seasonal_order=(0, 1, 1, 12); AIC=1019.088, BIC=1039.215, Fit time=0.975 seconds\n",
      "Fit ARIMA: order=(2, 1, 2) seasonal_order=(0, 1, 0, 12); AIC=1018.753, BIC=1036.004, Fit time=0.462 seconds\n",
      "Fit ARIMA: order=(1, 1, 2) seasonal_order=(0, 1, 0, 12); AIC=1026.100, BIC=1040.476, Fit time=0.143 seconds\n",
      "Fit ARIMA: order=(3, 1, 2) seasonal_order=(0, 1, 0, 12); AIC=1020.410, BIC=1040.536, Fit time=0.516 seconds\n",
      "Fit ARIMA: order=(2, 1, 1) seasonal_order=(0, 1, 0, 12); AIC=nan, BIC=nan, Fit time=nan seconds\n",
      "Fit ARIMA: order=(2, 1, 3) seasonal_order=(0, 1, 0, 12); AIC=1021.687, BIC=1041.814, Fit time=0.541 seconds\n",
      "Fit ARIMA: order=(1, 1, 1) seasonal_order=(0, 1, 0, 12); AIC=1024.342, BIC=1035.843, Fit time=0.101 seconds\n",
      "Fit ARIMA: order=(3, 1, 3) seasonal_order=(0, 1, 0, 12); AIC=1016.115, BIC=1039.116, Fit time=0.743 seconds\n",
      "Fit ARIMA: order=(3, 1, 3) seasonal_order=(1, 1, 0, 12); AIC=1012.499, BIC=1038.376, Fit time=1.318 seconds\n",
      "Fit ARIMA: order=(3, 1, 3) seasonal_order=(1, 1, 1, 12); AIC=1014.524, BIC=1043.276, Fit time=1.692 seconds\n",
      "Fit ARIMA: order=(3, 1, 3) seasonal_order=(2, 1, 1, 12); AIC=1007.359, BIC=1038.987, Fit time=3.335 seconds\n",
      "Fit ARIMA: order=(2, 1, 3) seasonal_order=(2, 1, 1, 12); AIC=1010.410, BIC=1039.162, Fit time=3.919 seconds\n",
      "Fit ARIMA: order=(4, 1, 3) seasonal_order=(2, 1, 1, 12); AIC=nan, BIC=nan, Fit time=nan seconds\n",
      "Fit ARIMA: order=(3, 1, 2) seasonal_order=(2, 1, 1, 12); AIC=1019.852, BIC=1048.604, Fit time=2.647 seconds\n",
      "Fit ARIMA: order=(3, 1, 4) seasonal_order=(2, 1, 1, 12); AIC=1011.626, BIC=1046.128, Fit time=3.751 seconds\n",
      "Fit ARIMA: order=(2, 1, 2) seasonal_order=(2, 1, 1, 12); AIC=1017.098, BIC=1042.974, Fit time=3.483 seconds\n",
      "Fit ARIMA: order=(3, 1, 3) seasonal_order=(2, 1, 0, 12); AIC=1014.123, BIC=1042.875, Fit time=3.222 seconds\n",
      "Fit ARIMA: order=(3, 1, 3) seasonal_order=(2, 1, 2, 12); AIC=1013.749, BIC=1048.251, Fit time=4.404 seconds\n",
      "Total fit time: 33.053 seconds\n",
      "Best ARIMA model AIC:\n",
      "1007.35936003\n"
     ]
    }
   ],
   "source": [
    "from pyramid.arima import auto_arima\n",
    "\n",
    "best_arima_model = auto_arima(passengers, m=12, seasonal=True, d=1, D=1, trace=True, error_action='ignore', suppress_warnings=True)\n",
    "print('Best ARIMA model AIC:')\n",
    "print(best_arima_model.aic())"
   ]
  },
  {
   "cell_type": "markdown",
   "metadata": {
    "collapsed": true
   },
   "source": [
    "We passed into **auto.arima( )** several arguments:\n",
    "- the *passengers* time series data\n",
    "- **m=12** since there are 12 periods/months in each season\n",
    "- **seasonal=True** since seasonality was confirmed present in the *passengers* data\n",
    "- **d=1** and **D=1** since the *passengers* dataset was confirmed stationary after first order differencing\n",
    "- **trace=True** to print the status of the fits to the screen\n",
    "- **error_action='ignore'** and **suppress_warnings=True** to ignore errors and warnings\n",
    "<br><br>\n",
    "Visit [this website](http://www.alkaline-ml.com/pmdarima/0.9.0/modules/generated/pyramid.arima.auto_arima.html) for more details on **auto.arima( )** parameters."
   ]
  },
  {
   "cell_type": "markdown",
   "metadata": {},
   "source": [
    "The following parameters were returned as best for the ARIMA model:\n",
    "<br>\n",
    "order=(3, 1, 3) seasonal_order=(2, 1, 1, 12)\n",
    "<br><br>\n",
    "In addition, the best fitted ARIMA model was also returned and saved as *best_arima_model*.  Once the best ARIMA model is found, it must be trained, tested and then evaluated.  The idea is somewhat similar to what we did in the Machine Learning For Making Predictions workshop.  It is recommended that you review that workshop before proceeding.  **R Squared** will be our evaluation metric. Recall that R Squared is a measure of how well future data are likely to be predicted.\n",
    "<br><br>\n",
    "First import the library for the evaluation metric."
   ]
  },
  {
   "cell_type": "code",
   "execution_count": 71,
   "metadata": {
    "collapsed": true
   },
   "outputs": [],
   "source": [
    "from sklearn.metrics import r2_score"
   ]
  },
  {
   "cell_type": "markdown",
   "metadata": {},
   "source": [
    "**STEP 1: Split your data into testing and training subsets.**\n",
    "<br><br>\n",
    "Since this is a time series forecast, we will “chop off” a portion of our latest data and use that as the test set. Then we will train on the rest of the data.\n",
    "<br><br>\n",
    "Our data goes from 1949-01 to 1960-12.  Let's use 1959-01 to 1960-12 as our test data and train on the rest."
   ]
  },
  {
   "cell_type": "code",
   "execution_count": 72,
   "metadata": {
    "collapsed": true
   },
   "outputs": [],
   "source": [
    "test = passengers.loc['1959-01':'1960-12']\n",
    "train = passengers.loc['1949-01':'1958-12']"
   ]
  },
  {
   "cell_type": "markdown",
   "metadata": {},
   "source": [
    "**STEP 2: Use the training data to train your model. **"
   ]
  },
  {
   "cell_type": "code",
   "execution_count": 76,
   "metadata": {},
   "outputs": [
    {
     "data": {
      "text/plain": [
       "ARIMA(callback=None, disp=0, maxiter=50, method=None, order=(3, 1, 3),\n",
       "   out_of_sample_size=0, scoring='mse', scoring_args={},\n",
       "   seasonal_order=(2, 1, 1, 12), solver='lbfgs', start_params=None,\n",
       "   suppress_warnings=True, transparams=True, trend='c')"
      ]
     },
     "execution_count": 76,
     "metadata": {},
     "output_type": "execute_result"
    }
   ],
   "source": [
    "best_arima_model.fit(train)"
   ]
  },
  {
   "cell_type": "markdown",
   "metadata": {},
   "source": [
    "**STEP 3: Use the testing data to evaluate your model.**"
   ]
  },
  {
   "cell_type": "code",
   "execution_count": 77,
   "metadata": {},
   "outputs": [
    {
     "name": "stdout",
     "output_type": "stream",
     "text": [
      "0.858998147135\n"
     ]
    }
   ],
   "source": [
    "arima_predict = best_arima_model.predict(n_periods=len(test))\n",
    "eval_metric = r2_score(y_pred = arima_predict, y_true = test)\n",
    "print(eval_metric)"
   ]
  },
  {
   "cell_type": "markdown",
   "metadata": {},
   "source": [
    "The **R Squared** value indicates that the model is 85.9% likely to predict the number of future airline passengers.  Let's convert the predictions to a Pandas DataFrame to print to the screen the predicted values.  Then use Pandas **.sort_index( )** to reorder the DataFrame by Month."
   ]
  },
  {
   "cell_type": "code",
   "execution_count": 78,
   "metadata": {},
   "outputs": [
    {
     "name": "stdout",
     "output_type": "stream",
     "text": [
      "            Predictions\n",
      "Month                  \n",
      "1959-01-01   354.404565\n",
      "1959-02-01   331.239828\n",
      "1959-03-01   382.290590\n",
      "1959-04-01   378.101834\n",
      "1959-05-01   389.968626\n",
      "1959-06-01   467.739924\n",
      "1959-07-01   531.429180\n",
      "1959-08-01   538.663292\n",
      "1959-09-01   441.391215\n",
      "1959-10-01   395.588734\n",
      "1959-11-01   339.364749\n",
      "1959-12-01   371.903391\n",
      "1960-01-01   390.849589\n",
      "1960-02-01   359.230359\n",
      "1960-03-01   416.093278\n",
      "1960-04-01   411.069619\n",
      "1960-05-01   420.066612\n",
      "1960-06-01   507.257394\n",
      "1960-07-01   573.606691\n",
      "1960-08-01   578.615407\n",
      "1960-09-01   477.827591\n",
      "1960-10-01   428.327529\n",
      "1960-11-01   366.470172\n",
      "1960-12-01   404.716946\n"
     ]
    }
   ],
   "source": [
    "arima_predict = pd.DataFrame(arima_predict, index=test.index, columns=['Predictions'])\n",
    "arima_predict.sort_index(inplace=True)\n",
    "print(arima_predict)"
   ]
  },
  {
   "cell_type": "markdown",
   "metadata": {},
   "source": [
    "A plot of the predictions vs the actual passengers test data values can help us see how good our predictions are.  Remember to use Pandas **.sort_index( )** to reorder the test DataFrame by Month before plotting."
   ]
  },
  {
   "cell_type": "code",
   "execution_count": 104,
   "metadata": {},
   "outputs": [
    {
     "data": {
      "image/png": "[encoded data removed]",
      "text/plain": [
       "<matplotlib.figure.Figure at 0x12e1bb6a0>"
      ]
     },
     "metadata": {},
     "output_type": "display_data"
    }
   ],
   "source": [
    "import matplotlib.pylab as plt\n",
    "\n",
    "test.sort_index(inplace=True)\n",
    "\n",
    "plt.plot(test.index, test.Passengers, color='black', label='Test Data')\n",
    "plt.plot(arima_predict.index, arima_predict.Predictions, color='red', label='Predictions')\n",
    "plt.legend(loc='best')\n",
    "plt.show()"
   ]
  },
  {
   "cell_type": "markdown",
   "metadata": {},
   "source": [
    "The average difference in test data vs predictions looks to be less than 50 passengers.  50 is relatively small. Therefore, the plot verifies what the **R Squared** value indicated regarding the model being pretty good for making predictions. Perhaps you could obtain better predictions by applying other techniques.  I will leave it up to you to find a better model as I am satisfied with the performance of this one enough to move forward with forecasting into the \"real\" future.  See you there!"
   ]
  },
  {
   "cell_type": "markdown",
   "metadata": {},
   "source": [
    "### Exercise"
   ]
  },
  {
   "cell_type": "markdown",
   "metadata": {},
   "source": [
    "Recall the time series dataset containing monthly number of sales of shampoo over a 3 year period for a UK-based online store."
   ]
  },
  {
   "cell_type": "code",
   "execution_count": 96,
   "metadata": {},
   "outputs": [
    {
     "name": "stdout",
     "output_type": "stream",
     "text": [
      "     Month  Sales\n",
      "0  2015-01  266.0\n",
      "1  2015-02  145.9\n",
      "2  2015-03  183.1\n",
      "3  2015-04  119.3\n",
      "4  2015-05  180.3\n"
     ]
    }
   ],
   "source": [
    "sales = pd.read_csv('https://mathatwork.org/DATA/sales-shampoo.csv')\n",
    "print(sales.head())"
   ]
  },
  {
   "cell_type": "markdown",
   "metadata": {},
   "source": [
    "**1)** Prepare the time series data for analysis by\n",
    "- converting the *Month* column to data type datetime\n",
    "- setting the *Month* column as the index of the time series"
   ]
  },
  {
   "cell_type": "code",
   "execution_count": null,
   "metadata": {},
   "outputs": [],
   "source": []
  },
  {
   "cell_type": "markdown",
   "metadata": {},
   "source": [
    "**2)** Recall that decompostion revealed a clear presence of both trend and seasonality in the data which provided evidence that the data is probably non-stationary. Furthermore, confirmed by a Dickey-Fuller test, applying first order differencing to the *passengers* data made the *passengers_first_diff* series data stationary.\n",
    "<br><br>\n",
    "Use Python's **auto.arima( )** with seasonality to find the best ARIMA model to make predictions regarding shampoo sales."
   ]
  },
  {
   "cell_type": "code",
   "execution_count": null,
   "metadata": {},
   "outputs": [],
   "source": []
  },
  {
   "cell_type": "markdown",
   "metadata": {},
   "source": [
    "**3)** Split the sales data into tesing and training subsets.  The data goes from 2015-01 to 2017-12.  Use 2017-07 to 2017-12 as your test data and train on the rest."
   ]
  },
  {
   "cell_type": "code",
   "execution_count": null,
   "metadata": {
    "collapsed": true
   },
   "outputs": [],
   "source": []
  },
  {
   "cell_type": "markdown",
   "metadata": {},
   "source": [
    "**4)** Use the training data to train your model."
   ]
  },
  {
   "cell_type": "code",
   "execution_count": null,
   "metadata": {},
   "outputs": [],
   "source": []
  },
  {
   "cell_type": "markdown",
   "metadata": {},
   "source": [
    "**5)** Use the testing data to evaluate your model.  In the cell below your analysis, explain how well your model predicts."
   ]
  },
  {
   "cell_type": "code",
   "execution_count": null,
   "metadata": {},
   "outputs": [],
   "source": []
  },
  {
   "cell_type": "code",
   "execution_count": null,
   "metadata": {
    "collapsed": true
   },
   "outputs": [],
   "source": []
  },
  {
   "cell_type": "markdown",
   "metadata": {},
   "source": [
    "**6)** Convert your predictions to a Pandas DataFrame. Then use Pandas **.sort_index( )** to reorder the DataFrame by Month.  Print your predictions DataFrame to the screen."
   ]
  },
  {
   "cell_type": "code",
   "execution_count": null,
   "metadata": {},
   "outputs": [],
   "source": []
  },
  {
   "cell_type": "markdown",
   "metadata": {},
   "source": [
    "**7)** Plot the predictions vs the actual sales test data values to help you see how good your predictions are. Remember to use Pandas **.sort_index( )** to reorder the test DataFrame by Month before plotting."
   ]
  },
  {
   "cell_type": "code",
   "execution_count": null,
   "metadata": {},
   "outputs": [],
   "source": []
  },
  {
   "cell_type": "markdown",
   "metadata": {},
   "source": [
    "**8)** Does the plot verify what the R Squared indicated regarding how well future data is likely to be predicted by the model?  Explain."
   ]
  },
  {
   "cell_type": "code",
   "execution_count": null,
   "metadata": {
    "collapsed": true
   },
   "outputs": [],
   "source": []
  }
 ],
 "metadata": {
  "kernelspec": {
   "display_name": "Python 3",
   "language": "python",
   "name": "python3"
  },
  "language_info": {
   "codemirror_mode": {
    "name": "ipython",
    "version": 3
   },
   "file_extension": ".py",
   "mimetype": "text/x-python",
   "name": "python",
   "nbconvert_exporter": "python",
   "pygments_lexer": "ipython3",
   "version": "3.6.1"
  }
 },
 "nbformat": 4,
 "nbformat_minor": 2
}
