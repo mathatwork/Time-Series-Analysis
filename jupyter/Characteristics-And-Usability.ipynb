{
 "cells": [
  {
   "cell_type": "markdown",
   "metadata": {},
   "source": [
    "# Examining Characteristics and Summary Statistics of Your Dataset"
   ]
  },
  {
   "cell_type": "markdown",
   "metadata": {},
   "source": [
    "It is always good practice to get a better understanding of your data in order to gather as many insights from it BEFORE doing any analyses. You want to, for example, understand the **characteristics** of your dataset.  That is, you want to make sure you know:\n",
    "- what columns are reported in your data\n",
    "- what the data types are for each column\n",
    "- what the first few observations look like"
   ]
  },
  {
   "cell_type": "markdown",
   "metadata": {},
   "source": [
    "Let's examine a sample time series dataset that contains the number of airline passengers traveling in a particular month.  This data is stored as a CSV file on the Math@Work server.  Take a look at the following characteristics of this time series dataset."
   ]
  },
  {
   "cell_type": "code",
   "execution_count": 1,
   "metadata": {},
   "outputs": [
    {
     "name": "stdout",
     "output_type": "stream",
     "text": [
      "     Month  Passengers\n",
      "0  1949-01         112\n",
      "1  1949-02         118\n",
      "2  1949-03         132\n",
      "3  1949-04         129\n",
      "4  1949-05         121\n",
      "       Month  Passengers\n",
      "139  1960-08         606\n",
      "140  1960-09         508\n",
      "141  1960-10         461\n",
      "142  1960-11         390\n",
      "143  1960-12         432\n",
      "Month         object\n",
      "Passengers     int64\n",
      "dtype: object\n"
     ]
    }
   ],
   "source": [
    "import pandas as pd\n",
    "passengers = pd.read_csv('https://mathatwork.org/DATA/airpassengers.csv')\n",
    "print(passengers.head(5))\n",
    "print(passengers.tail(5))\n",
    "print(passengers.dtypes)"
   ]
  },
  {
   "cell_type": "markdown",
   "metadata": {
    "collapsed": true
   },
   "source": [
    "Review the Introduction to Pandas lesson from the Python for Data Science workshop for a detailed tutorial on the Pandas package, the **df.head( )** and the **df.tail( )** functions.  From the output, you can see there are only 2 columns (*Month* and *Passengers*) reported in the data.\n",
    "<br><br>\n",
    "Pandas **.dtypes** returns a Series with the data types of each column in the DataFrame.  From the output, you can see that the *Month* column is of data type string (data type = object is equivalent to string) and the *Passengers* column is an integer of size 64 bits.  This all is in line with the data that is reported in its respective column.  At this point there is no indication of missing values or inappropriate column data types."
   ]
  },
  {
   "cell_type": "markdown",
   "metadata": {},
   "source": [
    "Another good way to understand your data is by calculating various summary statistics. **Summary statistics** can give you very useful information like where your data is centered and how spread out it is. Now, take a look at the following summary statistics of this time series dataset."
   ]
  },
  {
   "cell_type": "code",
   "execution_count": 2,
   "metadata": {},
   "outputs": [
    {
     "name": "stdout",
     "output_type": "stream",
     "text": [
      "       Passengers\n",
      "count  144.000000\n",
      "mean   280.298611\n",
      "std    119.966317\n",
      "min    104.000000\n",
      "25%    180.000000\n",
      "50%    265.500000\n",
      "75%    360.500000\n",
      "max    622.000000\n"
     ]
    }
   ],
   "source": [
    "print(passengers.describe())"
   ]
  },
  {
   "cell_type": "markdown",
   "metadata": {},
   "source": [
    "Pandas **.describe( )** generates descriptive statistics that summarize the central tendency (mean), dispersion (std, quartiles, min and max) and shape of a dataset’s distribution, excluding NaN values.  Review the Python for Data Science workshop for additional details on these statistical properties."
   ]
  },
  {
   "cell_type": "markdown",
   "metadata": {},
   "source": [
    "Upon reviewing the dataset head, tail, column data types and summary statistics, you can see that the data looks reasonably good.  A quick calculation reveals that the standard deviation is 119.97/280.3 = 0.43 or 43% of the mean.  Refer to the Python for Data Preprocessing workshop for a detailed tutorial regarding standard deviation and spread.  A standard deviation that is 43% of the mean indicates that the data has fairly high variability (or spread).\n",
    "<br><br>\n",
    "Furthermore, the data looks like it may be skewed right since [Q3 - 2Q2 + Q1]/[Q3 - Q1] > 0.  Refer to the Python for Data Preprocessing workshop for a detailed tutorial regarding the skewness of data.\n",
    "<br><br>\n",
    "Let's check for outliers using a boxplot of the *Passengers* column of the *passengers* DataFrame.  Pass in the argument **vert=False** to change the orientation of the outputted boxplot to horizontal. This just looks nicer and makes skewness easier to see.  Review the Python for Data Visualizations workshop for more details on charting boxplots."
   ]
  },
  {
   "cell_type": "code",
   "execution_count": 17,
   "metadata": {},
   "outputs": [
    {
     "data": {
      "image/png": "[encoded data removed]",
      "text/plain": [
       "<matplotlib.figure.Figure at 0x119ccc860>"
      ]
     },
     "metadata": {},
     "output_type": "display_data"
    }
   ],
   "source": [
    "import matplotlib.pylab as plt\n",
    "plt.boxplot(passengers.Passengers, vert=False)\n",
    "plt.show()"
   ]
  },
  {
   "cell_type": "markdown",
   "metadata": {},
   "source": [
    "Since there are no single data points displayed to the left or right of this boxplot, you can conclude that the dataset contains no outliers.  However, this data does appear to be skewed right as speculated above. Since the part of the box to the left of the median is shorter than the part to the right of the median and the whisker to the right of the box is longer than the one to the left, this indicates that there are more extreme values towards the right."
   ]
  },
  {
   "cell_type": "markdown",
   "metadata": {},
   "source": [
    "After examining the data’s characteristics and summary statistics, you have an overall feel of the look of the data and have determined what columns are reported in the data and the column data types.  Furthermore, although skewed and fairly spread out, there are no outliers and working on the assumption that the data has been preprocessed to include no missing values or bad data entries, we can conclude that this data looks to be of very good quality for analyses."
   ]
  },
  {
   "cell_type": "markdown",
   "metadata": {},
   "source": [
    "### Exercise"
   ]
  },
  {
   "cell_type": "markdown",
   "metadata": {},
   "source": [
    "You are a data analyst for a UK-based online store that sells shampoo.  Your are asked to analyze a time series dataset containing the monthly number of sales of shampoo over a 3 year period.  This data is stored as a CSV file named sales-shampoo.csv on the Math@Work server."
   ]
  },
  {
   "cell_type": "markdown",
   "metadata": {},
   "source": [
    "**1)**  In the next cell, examine the characteristics of your dataset."
   ]
  },
  {
   "cell_type": "code",
   "execution_count": null,
   "metadata": {
    "collapsed": true
   },
   "outputs": [],
   "source": []
  },
  {
   "cell_type": "markdown",
   "metadata": {},
   "source": [
    "**2)**  In the next cell, examine summary statistics of your dataset.  In the cell below your analysis, discuss the spread of your data."
   ]
  },
  {
   "cell_type": "code",
   "execution_count": null,
   "metadata": {
    "collapsed": true
   },
   "outputs": [],
   "source": []
  },
  {
   "cell_type": "code",
   "execution_count": null,
   "metadata": {
    "collapsed": true
   },
   "outputs": [],
   "source": []
  },
  {
   "cell_type": "markdown",
   "metadata": {},
   "source": [
    "**3)**  In the next cell, identify whether there are outliers in your dataset.  Is this dataset symmetrical or is it skewed?  Explain in the cell below your analysis."
   ]
  },
  {
   "cell_type": "code",
   "execution_count": null,
   "metadata": {
    "collapsed": true
   },
   "outputs": [],
   "source": []
  },
  {
   "cell_type": "code",
   "execution_count": null,
   "metadata": {
    "collapsed": true
   },
   "outputs": [],
   "source": []
  },
  {
   "cell_type": "markdown",
   "metadata": {},
   "source": [
    "**4)** Working on the assumption that the data has been preprocessed to include no missing values or bad data entries, can you conclude that the data is of good quality for analyses?  Explain."
   ]
  },
  {
   "cell_type": "code",
   "execution_count": null,
   "metadata": {
    "collapsed": true
   },
   "outputs": [],
   "source": []
  }
 ],
 "metadata": {
  "kernelspec": {
   "display_name": "Python 3",
   "language": "python",
   "name": "python3"
  },
  "language_info": {
   "codemirror_mode": {
    "name": "ipython",
    "version": 3
   },
   "file_extension": ".py",
   "mimetype": "text/x-python",
   "name": "python",
   "nbconvert_exporter": "python",
   "pygments_lexer": "ipython3",
   "version": "3.6.1"
  }
 },
 "nbformat": 4,
 "nbformat_minor": 2
}
