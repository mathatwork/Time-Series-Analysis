{
 "cells": [
  {
   "cell_type": "markdown",
   "metadata": {},
   "source": [
    "# Refitting Your Model"
   ]
  },
  {
   "cell_type": "markdown",
   "metadata": {},
   "source": [
    "Previously, our model was trained using the training data.  In order to make predictions into the \"real\" future, our model must first be refit to the entire time series data (not just the training subset)."
   ]
  },
  {
   "cell_type": "markdown",
   "metadata": {},
   "source": [
    "Recall the time series dataset containing the number of airline passengers traveling in a particular month.  Let's model the time series data then train, test and evaluate our model."
   ]
  },
  {
   "cell_type": "code",
   "execution_count": 1,
   "metadata": {},
   "outputs": [
    {
     "name": "stdout",
     "output_type": "stream",
     "text": [
      "0.858998147135\n"
     ]
    }
   ],
   "source": [
    "import pandas as pd\n",
    "passengers = pd.read_csv('https://www.mathatwork.org/DATA/airpassengers.csv')\n",
    "\n",
    "from datetime import datetime\n",
    "passengers.Month = pd.to_datetime(passengers.Month)\n",
    "passengers.index = passengers.Month\n",
    "passengers = passengers.drop('Month', axis=1)\n",
    "\n",
    "from pyramid.arima import auto_arima\n",
    "best_arima_model = auto_arima(passengers, m=12, seasonal=True, d=1, D=1, trace=False, error_action='ignore', suppress_warnings=True)\n",
    "\n",
    "from sklearn.metrics import r2_score\n",
    "test = passengers.loc['1959-01':'1960-12']\n",
    "train = passengers.loc['1949-01':'1958-12']\n",
    "\n",
    "best_arima_model.fit(train)\n",
    "arima_predict = best_arima_model.predict(n_periods=len(test))\n",
    "eval_metric = r2_score(y_pred = arima_predict, y_true = test)\n",
    "print(eval_metric)"
   ]
  },
  {
   "cell_type": "markdown",
   "metadata": {},
   "source": [
    "In the above code, *trace* is set to False and therefore the status of the fits are not displayed to the screen.  Once we get R Squared and are satisfied with the model's performance, we can use our model to make predictions about future airline passengers.\n",
    "<br><br>\n",
    "Refit the model to the entire *passengers* time series dataset using **.fit( )** and passing in the *passengers* series."
   ]
  },
  {
   "cell_type": "code",
   "execution_count": 2,
   "metadata": {},
   "outputs": [
    {
     "name": "stdout",
     "output_type": "stream",
     "text": [
      "                                 Statespace Model Results                                 \n",
      "==========================================================================================\n",
      "Dep. Variable:                                  y   No. Observations:                  144\n",
      "Model:             SARIMAX(3, 1, 3)x(2, 1, 1, 12)   Log Likelihood                -492.680\n",
      "Date:                            Fri, 08 Feb 2019   AIC                           1007.359\n",
      "Time:                                    12:05:45   BIC                           1038.987\n",
      "Sample:                                         0   HQIC                          1020.211\n",
      "                                            - 144                                         \n",
      "Covariance Type:                              opg                                         \n",
      "==============================================================================\n",
      "                 coef    std err          z      P>|z|      [0.025      0.975]\n",
      "------------------------------------------------------------------------------\n",
      "intercept      0.0067      0.039      0.171      0.864      -0.070       0.083\n",
      "ar.L1         -0.2695      0.090     -2.985      0.003      -0.447      -0.093\n",
      "ar.L2         -0.1293      0.082     -1.578      0.114      -0.290       0.031\n",
      "ar.L3          0.7439      0.087      8.535      0.000       0.573       0.915\n",
      "ma.L1         -0.0864      1.001     -0.086      0.931      -2.049       1.876\n",
      "ma.L2          0.0591      0.919      0.064      0.949      -1.742       1.860\n",
      "ma.L3         -0.9710      0.992     -0.979      0.328      -2.915       0.973\n",
      "ar.S.L12       0.6237      0.139      4.489      0.000       0.351       0.896\n",
      "ar.S.L24       0.3616      0.112      3.225      0.001       0.142       0.581\n",
      "ma.S.L12      -0.9158      0.307     -2.985      0.003      -1.517      -0.315\n",
      "sigma2        92.9976     98.111      0.948      0.343     -99.297     285.292\n",
      "===================================================================================\n",
      "Ljung-Box (Q):                       41.19   Jarque-Bera (JB):                 5.80\n",
      "Prob(Q):                              0.42   Prob(JB):                         0.05\n",
      "Heteroskedasticity (H):               2.22   Skew:                             0.06\n",
      "Prob(H) (two-sided):                  0.01   Kurtosis:                         4.02\n",
      "===================================================================================\n",
      "\n",
      "Warnings:\n",
      "[1] Covariance matrix calculated using the outer product of gradients (complex-step).\n"
     ]
    }
   ],
   "source": [
    "model_fitted = best_arima_model.fit(passengers)\n",
    "print(model_fitted.summary())"
   ]
  },
  {
   "cell_type": "markdown",
   "metadata": {},
   "source": [
    "Printing the fitted model summary, we can verify the AIC, the order and the seasonal order."
   ]
  },
  {
   "cell_type": "markdown",
   "metadata": {},
   "source": [
    "# Making Predictions"
   ]
  },
  {
   "cell_type": "markdown",
   "metadata": {},
   "source": [
    "Once the model has been refit, we can now make our projections.  It is recommended that your projections be made no further out then the length of your testing data.  That is, the testing data for our *passengers* time series is of length 24 months."
   ]
  },
  {
   "cell_type": "code",
   "execution_count": 3,
   "metadata": {},
   "outputs": [
    {
     "name": "stdout",
     "output_type": "stream",
     "text": [
      "24\n"
     ]
    }
   ],
   "source": [
    "print(len(test))"
   ]
  },
  {
   "cell_type": "markdown",
   "metadata": {},
   "source": [
    "Therefore, we should only make projections of no more than 24 months into the future using our refitted model.  "
   ]
  },
  {
   "cell_type": "code",
   "execution_count": 13,
   "metadata": {
    "collapsed": true
   },
   "outputs": [],
   "source": [
    "projections = model_fitted.predict(n_periods = len(test))"
   ]
  },
  {
   "cell_type": "markdown",
   "metadata": {},
   "source": [
    "Let's create the date months for which we are projecting and then convert our *projections* into a DataFrame with indices equal to the future date months."
   ]
  },
  {
   "cell_type": "code",
   "execution_count": 14,
   "metadata": {},
   "outputs": [
    {
     "name": "stdout",
     "output_type": "stream",
     "text": [
      "            Projections\n",
      "1961-01-01   456.283350\n",
      "1961-02-01   416.861895\n",
      "1961-03-01   469.475452\n",
      "1961-04-01   501.060090\n",
      "1961-05-01   506.682597\n",
      "1961-06-01   579.858293\n",
      "1961-07-01   672.446487\n",
      "1961-08-01   654.011641\n",
      "1961-09-01   558.300875\n",
      "1961-10-01   505.441795\n",
      "1961-11-01   428.996155\n",
      "1961-12-01   484.348195\n",
      "1962-01-01   505.137087\n",
      "1962-02-01   458.065248\n",
      "1962-03-01   514.119667\n",
      "1962-04-01   551.911624\n",
      "1962-05-01   553.675078\n",
      "1962-06-01   637.661601\n",
      "1962-07-01   732.509369\n",
      "1962-08-01   707.260472\n",
      "1962-09-01   612.091707\n",
      "1962-10-01   554.434817\n",
      "1962-11-01   469.727661\n",
      "1962-12-01   532.277691\n"
     ]
    }
   ],
   "source": [
    "from dateutil.relativedelta import *\n",
    "\n",
    "new_date = passengers.index[-1]\n",
    "new_index = []\n",
    "\n",
    "for y in range(len(test)):\n",
    "    new_date = new_date + relativedelta(months=+1)\n",
    "    new_index.append(new_date)\n",
    "    \n",
    "projections = pd.DataFrame(projections, index = new_index, columns=['Projections'])\n",
    "print(projections)"
   ]
  },
  {
   "cell_type": "markdown",
   "metadata": {},
   "source": [
    "And there you have the predictions 24 months into the future.  Let's plot our *passengers* data and our *projections* data."
   ]
  },
  {
   "cell_type": "code",
   "execution_count": 18,
   "metadata": {},
   "outputs": [
    {
     "data": {
      "image/png": "[encoded data removed]",
      "text/plain": [
       "<matplotlib.figure.Figure at 0x126d6e940>"
      ]
     },
     "metadata": {},
     "output_type": "display_data"
    }
   ],
   "source": [
    "import matplotlib.pylab as plt\n",
    "\n",
    "plt.plot(passengers.index, passengers.Passengers, color='black', label='Air Passengers Data')\n",
    "plt.plot(projections.index, projections.Projections, color='red', label='Projections')\n",
    "plt.legend(loc='best')\n",
    "plt.show()"
   ]
  },
  {
   "cell_type": "markdown",
   "metadata": {},
   "source": [
    "Great!  We have a nice visual of the original *passengers* data along with our model projections.  The projections indicate an upward trend in the number of airline passengers."
   ]
  },
  {
   "cell_type": "markdown",
   "metadata": {},
   "source": [
    "### Exercise"
   ]
  },
  {
   "cell_type": "markdown",
   "metadata": {},
   "source": [
    "Recall the time series dataset containing monthly number of sales of shampoo over a 3 year period for a UK-based online store."
   ]
  },
  {
   "cell_type": "code",
   "execution_count": 25,
   "metadata": {},
   "outputs": [
    {
     "name": "stdout",
     "output_type": "stream",
     "text": [
      "     Month  Sales\n",
      "0  2015-01  266.0\n",
      "1  2015-02  145.9\n",
      "2  2015-03  183.1\n",
      "3  2015-04  119.3\n",
      "4  2015-05  180.3\n"
     ]
    }
   ],
   "source": [
    "sales = pd.read_csv('https://mathatwork.org/DATA/sales-shampoo.csv')\n",
    "print(sales.head())"
   ]
  },
  {
   "cell_type": "markdown",
   "metadata": {},
   "source": [
    "**1)** Model the time series data then train, test and evaluate your model."
   ]
  },
  {
   "cell_type": "code",
   "execution_count": null,
   "metadata": {},
   "outputs": [],
   "source": []
  },
  {
   "cell_type": "markdown",
   "metadata": {},
   "source": [
    "**2)** Assume your R Squared is satisfactory. Refit the model to the entire *sales* data.  Print the refitted model summary."
   ]
  },
  {
   "cell_type": "code",
   "execution_count": null,
   "metadata": {},
   "outputs": [],
   "source": []
  },
  {
   "cell_type": "markdown",
   "metadata": {},
   "source": [
    "**3)** Make projections 6 months into the future."
   ]
  },
  {
   "cell_type": "code",
   "execution_count": null,
   "metadata": {
    "collapsed": true
   },
   "outputs": [],
   "source": []
  },
  {
   "cell_type": "markdown",
   "metadata": {},
   "source": [
    "Run the following code to create the date months for which you are projecting and then convert your projections into a DataFrame with indices equal to the future date months.  The code assumes you named your time series DataFrame *sales* and your projections DataFrame *projections2*."
   ]
  },
  {
   "cell_type": "code",
   "execution_count": null,
   "metadata": {},
   "outputs": [],
   "source": [
    "new_date = sales.index[-1]\n",
    "new_index = []\n",
    "\n",
    "for y in range(len(test2)):\n",
    "    new_date = new_date + relativedelta(months=+1)\n",
    "    new_index.append(new_date)\n",
    "    \n",
    "projections2 = pd.DataFrame(projections2, index = new_index, columns=['Projections'])\n",
    "print(projections2)"
   ]
  },
  {
   "cell_type": "markdown",
   "metadata": {},
   "source": [
    "**4)** Plot your *sales* and *projections* data."
   ]
  },
  {
   "cell_type": "code",
   "execution_count": null,
   "metadata": {},
   "outputs": [],
   "source": []
  },
  {
   "cell_type": "markdown",
   "metadata": {},
   "source": [
    "**5)** Do your projections indicate a trend in shampoo sales?  Explain."
   ]
  },
  {
   "cell_type": "code",
   "execution_count": null,
   "metadata": {
    "collapsed": true
   },
   "outputs": [],
   "source": []
  }
 ],
 "metadata": {
  "kernelspec": {
   "display_name": "Python 3",
   "language": "python",
   "name": "python3"
  },
  "language_info": {
   "codemirror_mode": {
    "name": "ipython",
    "version": 3
   },
   "file_extension": ".py",
   "mimetype": "text/x-python",
   "name": "python",
   "nbconvert_exporter": "python",
   "pygments_lexer": "ipython3",
   "version": "3.6.1"
  }
 },
 "nbformat": 4,
 "nbformat_minor": 2
}
